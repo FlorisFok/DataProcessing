{
 "cells": [
  {
   "cell_type": "code",
   "execution_count": 13,
   "metadata": {},
   "outputs": [],
   "source": [
    "import pandas"
   ]
  },
  {
   "cell_type": "code",
   "execution_count": 14,
   "metadata": {},
   "outputs": [],
   "source": [
    "df = pandas.read_csv(r\"google-play-store-apps\\googleplaystore.csv\")"
   ]
  },
  {
   "cell_type": "code",
   "execution_count": 15,
   "metadata": {},
   "outputs": [
    {
     "data": {
      "text/plain": [
       "['App',\n",
       " 'Category',\n",
       " 'Rating',\n",
       " 'Reviews',\n",
       " 'Size',\n",
       " 'Installs',\n",
       " 'Type',\n",
       " 'Price',\n",
       " 'Content Rating',\n",
       " 'Genres',\n",
       " 'Last Updated',\n",
       " 'Current Ver',\n",
       " 'Android Ver']"
      ]
     },
     "execution_count": 15,
     "metadata": {},
     "output_type": "execute_result"
    }
   ],
   "source": [
    "list(df)"
   ]
  },
  {
   "cell_type": "code",
   "execution_count": 16,
   "metadata": {},
   "outputs": [],
   "source": [
    "df = df.drop(['Last Updated', 'Android Ver', 'Content Rating', 'Current Ver', 'App'], axis=1)"
   ]
  },
  {
   "cell_type": "code",
   "execution_count": 18,
   "metadata": {},
   "outputs": [
    {
     "data": {
      "text/html": [
       "<div>\n",
       "<style scoped>\n",
       "    .dataframe tbody tr th:only-of-type {\n",
       "        vertical-align: middle;\n",
       "    }\n",
       "\n",
       "    .dataframe tbody tr th {\n",
       "        vertical-align: top;\n",
       "    }\n",
       "\n",
       "    .dataframe thead th {\n",
       "        text-align: right;\n",
       "    }\n",
       "</style>\n",
       "<table border=\"1\" class=\"dataframe\">\n",
       "  <thead>\n",
       "    <tr style=\"text-align: right;\">\n",
       "      <th></th>\n",
       "      <th>Category</th>\n",
       "      <th>Rating</th>\n",
       "      <th>Reviews</th>\n",
       "      <th>Size</th>\n",
       "      <th>Installs</th>\n",
       "      <th>Type</th>\n",
       "      <th>Price</th>\n",
       "      <th>Genres</th>\n",
       "    </tr>\n",
       "  </thead>\n",
       "  <tbody>\n",
       "    <tr>\n",
       "      <th>0</th>\n",
       "      <td>ART_AND_DESIGN</td>\n",
       "      <td>4.1</td>\n",
       "      <td>159</td>\n",
       "      <td>19M</td>\n",
       "      <td>10,000+</td>\n",
       "      <td>Free</td>\n",
       "      <td>0</td>\n",
       "      <td>Art &amp; Design</td>\n",
       "    </tr>\n",
       "    <tr>\n",
       "      <th>1</th>\n",
       "      <td>ART_AND_DESIGN</td>\n",
       "      <td>3.9</td>\n",
       "      <td>967</td>\n",
       "      <td>14M</td>\n",
       "      <td>500,000+</td>\n",
       "      <td>Free</td>\n",
       "      <td>0</td>\n",
       "      <td>Art &amp; Design;Pretend Play</td>\n",
       "    </tr>\n",
       "    <tr>\n",
       "      <th>2</th>\n",
       "      <td>ART_AND_DESIGN</td>\n",
       "      <td>4.7</td>\n",
       "      <td>87510</td>\n",
       "      <td>8.7M</td>\n",
       "      <td>5,000,000+</td>\n",
       "      <td>Free</td>\n",
       "      <td>0</td>\n",
       "      <td>Art &amp; Design</td>\n",
       "    </tr>\n",
       "    <tr>\n",
       "      <th>3</th>\n",
       "      <td>ART_AND_DESIGN</td>\n",
       "      <td>4.5</td>\n",
       "      <td>215644</td>\n",
       "      <td>25M</td>\n",
       "      <td>50,000,000+</td>\n",
       "      <td>Free</td>\n",
       "      <td>0</td>\n",
       "      <td>Art &amp; Design</td>\n",
       "    </tr>\n",
       "    <tr>\n",
       "      <th>4</th>\n",
       "      <td>ART_AND_DESIGN</td>\n",
       "      <td>4.3</td>\n",
       "      <td>967</td>\n",
       "      <td>2.8M</td>\n",
       "      <td>100,000+</td>\n",
       "      <td>Free</td>\n",
       "      <td>0</td>\n",
       "      <td>Art &amp; Design;Creativity</td>\n",
       "    </tr>\n",
       "  </tbody>\n",
       "</table>\n",
       "</div>"
      ],
      "text/plain": [
       "         Category  Rating Reviews  Size     Installs  Type Price  \\\n",
       "0  ART_AND_DESIGN     4.1     159   19M      10,000+  Free     0   \n",
       "1  ART_AND_DESIGN     3.9     967   14M     500,000+  Free     0   \n",
       "2  ART_AND_DESIGN     4.7   87510  8.7M   5,000,000+  Free     0   \n",
       "3  ART_AND_DESIGN     4.5  215644   25M  50,000,000+  Free     0   \n",
       "4  ART_AND_DESIGN     4.3     967  2.8M     100,000+  Free     0   \n",
       "\n",
       "                      Genres  \n",
       "0               Art & Design  \n",
       "1  Art & Design;Pretend Play  \n",
       "2               Art & Design  \n",
       "3               Art & Design  \n",
       "4    Art & Design;Creativity  "
      ]
     },
     "execution_count": 18,
     "metadata": {},
     "output_type": "execute_result"
    }
   ],
   "source": [
    "df.head()"
   ]
  },
  {
   "cell_type": "code",
   "execution_count": 25,
   "metadata": {},
   "outputs": [],
   "source": [
    "df = df.fillna(0)"
   ]
  },
  {
   "cell_type": "code",
   "execution_count": 31,
   "metadata": {},
   "outputs": [],
   "source": [
    "df= df[df['Rating'] != 0]\n",
    "df= df[df['Rating'] <= 5]"
   ]
  },
  {
   "cell_type": "code",
   "execution_count": 32,
   "metadata": {},
   "outputs": [
    {
     "data": {
      "text/html": [
       "<div>\n",
       "<style scoped>\n",
       "    .dataframe tbody tr th:only-of-type {\n",
       "        vertical-align: middle;\n",
       "    }\n",
       "\n",
       "    .dataframe tbody tr th {\n",
       "        vertical-align: top;\n",
       "    }\n",
       "\n",
       "    .dataframe thead th {\n",
       "        text-align: right;\n",
       "    }\n",
       "</style>\n",
       "<table border=\"1\" class=\"dataframe\">\n",
       "  <thead>\n",
       "    <tr style=\"text-align: right;\">\n",
       "      <th></th>\n",
       "      <th>Rating</th>\n",
       "    </tr>\n",
       "  </thead>\n",
       "  <tbody>\n",
       "    <tr>\n",
       "      <th>count</th>\n",
       "      <td>9366.000000</td>\n",
       "    </tr>\n",
       "    <tr>\n",
       "      <th>mean</th>\n",
       "      <td>4.191757</td>\n",
       "    </tr>\n",
       "    <tr>\n",
       "      <th>std</th>\n",
       "      <td>0.515219</td>\n",
       "    </tr>\n",
       "    <tr>\n",
       "      <th>min</th>\n",
       "      <td>1.000000</td>\n",
       "    </tr>\n",
       "    <tr>\n",
       "      <th>50%</th>\n",
       "      <td>4.300000</td>\n",
       "    </tr>\n",
       "    <tr>\n",
       "      <th>max</th>\n",
       "      <td>5.000000</td>\n",
       "    </tr>\n",
       "  </tbody>\n",
       "</table>\n",
       "</div>"
      ],
      "text/plain": [
       "            Rating\n",
       "count  9366.000000\n",
       "mean      4.191757\n",
       "std       0.515219\n",
       "min       1.000000\n",
       "50%       4.300000\n",
       "max       5.000000"
      ]
     },
     "execution_count": 32,
     "metadata": {},
     "output_type": "execute_result"
    }
   ],
   "source": [
    "df.describe(())"
   ]
  },
  {
   "cell_type": "code",
   "execution_count": 37,
   "metadata": {},
   "outputs": [
    {
     "data": {
      "text/plain": [
       "count       9366\n",
       "unique        33\n",
       "top       FAMILY\n",
       "freq        1747\n",
       "Name: Category, dtype: object"
      ]
     },
     "execution_count": 37,
     "metadata": {},
     "output_type": "execute_result"
    }
   ],
   "source": [
    "df['Category'].describe()"
   ]
  },
  {
   "cell_type": "code",
   "execution_count": 56,
   "metadata": {},
   "outputs": [],
   "source": [
    "cats = list(df['Category'])"
   ]
  },
  {
   "cell_type": "code",
   "execution_count": 57,
   "metadata": {},
   "outputs": [],
   "source": [
    "d ={}\n",
    "\n",
    "for c in cats:\n",
    "    if c in d:\n",
    "        d[c] += 1\n",
    "    else:\n",
    "        d[c] = 1\n"
   ]
  },
  {
   "cell_type": "code",
   "execution_count": 58,
   "metadata": {},
   "outputs": [],
   "source": [
    "values = list(d.values())"
   ]
  },
  {
   "cell_type": "code",
   "execution_count": 59,
   "metadata": {},
   "outputs": [],
   "source": [
    "values.sort()"
   ]
  },
  {
   "cell_type": "code",
   "execution_count": 60,
   "metadata": {},
   "outputs": [],
   "source": [
    "top_vals = values[-10:]\n",
    "top_cats = []\n",
    "for k in d:\n",
    "    if d[k] in top_vals:\n",
    "        top_cats.append((k,d[k]))\n",
    "        top_vals.pop(top_vals.index(d[k]))\n",
    "        "
   ]
  },
  {
   "cell_type": "code",
   "execution_count": 61,
   "metadata": {},
   "outputs": [
    {
     "data": {
      "text/plain": [
       "[('COMMUNICATION', 328),\n",
       " ('FINANCE', 323),\n",
       " ('LIFESTYLE', 314),\n",
       " ('GAME', 1097),\n",
       " ('FAMILY', 1747),\n",
       " ('MEDICAL', 350),\n",
       " ('PHOTOGRAPHY', 317),\n",
       " ('SPORTS', 319),\n",
       " ('TOOLS', 734),\n",
       " ('PRODUCTIVITY', 351)]"
      ]
     },
     "execution_count": 61,
     "metadata": {},
     "output_type": "execute_result"
    }
   ],
   "source": [
    "top_cats"
   ]
  },
  {
   "cell_type": "code",
   "execution_count": 63,
   "metadata": {},
   "outputs": [],
   "source": [
    "Com = df[df['Category'] == 'COMMUNICATION']\n",
    "Fin = df[df['Category'] == 'FINANCE']\n",
    "Lif = df[df['Category'] == 'LIFESTYLE']\n",
    "Gam = df[df['Category'] == 'GAME']\n",
    "Fam = df[df['Category'] == 'FAMILY']\n",
    "Med = df[df['Category'] == 'MEDICAL']\n",
    "Pho = df[df['Category'] == 'PHOTOGRAPHY']\n",
    "Spo = df[df['Category'] == 'SPORTS']\n",
    "Too = df[df['Category'] == 'TOOLS']\n",
    "Pro = df[df['Category'] == 'PRODUCTIVITY']"
   ]
  },
  {
   "cell_type": "raw",
   "metadata": {},
   "source": []
  },
  {
   "cell_type": "code",
   "execution_count": 67,
   "metadata": {},
   "outputs": [
    {
     "data": {
      "text/plain": [
       "array([[328.        ],\n",
       "       [  4.15853659],\n",
       "       [  0.42619179],\n",
       "       [  1.        ],\n",
       "       [  4.        ],\n",
       "       [  4.3       ],\n",
       "       [  4.4       ],\n",
       "       [  5.        ]])"
      ]
     },
     "execution_count": 67,
     "metadata": {},
     "output_type": "execute_result"
    }
   ],
   "source": [
    "Com.describe().values"
   ]
  },
  {
   "cell_type": "code",
   "execution_count": 70,
   "metadata": {},
   "outputs": [],
   "source": [
    "price = Com[Com.columns[6]].replace('[\\$,]+', '', regex=True).astype(float)"
   ]
  },
  {
   "cell_type": "code",
   "execution_count": 72,
   "metadata": {},
   "outputs": [],
   "source": [
    "# pandas.DataFrame(price)"
   ]
  },
  {
   "cell_type": "code",
   "execution_count": 4,
   "metadata": {},
   "outputs": [
    {
     "name": "stderr",
     "output_type": "stream",
     "text": [
      "C:\\Users\\s147057\\AppData\\Local\\Continuum\\anaconda3\\lib\\site-packages\\pandas\\core\\indexing.py:543: SettingWithCopyWarning: \n",
      "A value is trying to be set on a copy of a slice from a DataFrame.\n",
      "Try using .loc[row_indexer,col_indexer] = value instead\n",
      "\n",
      "See the caveats in the documentation: http://pandas.pydata.org/pandas-docs/stable/indexing.html#indexing-view-versus-copy\n",
      "  self.obj[item] = s\n"
     ]
    }
   ],
   "source": [
    "import pandas\n",
    "import json\n",
    "\n",
    "\n",
    "# Import csv to DataFrame\n",
    "df = pandas.read_csv(r\"google-play-store-apps\\googleplaystore.csv\")\n",
    "\n",
    "# Drop the shitty columns\n",
    "df = df.drop(['Last Updated',\n",
    "              'Android Ver',\n",
    "              'Content Rating',\n",
    "              'Current Ver',\n",
    "              'App', 'Type',\n",
    "              'Size'], axis=1)\n",
    "\n",
    "# Replace missing values with 0\n",
    "df = df.fillna(0)\n",
    "\n",
    "def get_top_cats(df, col_name, top):\n",
    "    ''' Selects the top occuring in a dataframe column'''\n",
    "    # Make list from data frame\n",
    "    cats = list(df[col_name])\n",
    "    d ={}\n",
    "\n",
    "    # Count occurance of items in list\n",
    "    for c in cats:\n",
    "        if c in d:\n",
    "            d[c] += 1\n",
    "        else:\n",
    "            d[c] = 1\n",
    "\n",
    "    # Sort the values of counted values\n",
    "    values = list(d.values())\n",
    "    values.sort()\n",
    "\n",
    "    # Retrive the keys corresponding to top values\n",
    "    top_vals = values[-top:]\n",
    "    top_cats = []\n",
    "    for k in d:\n",
    "        if d[k] in top_vals:\n",
    "            top_cats.append((k))\n",
    "            top_vals.pop(top_vals.index(d[k]))\n",
    "\n",
    "    # Return top values\n",
    "    return top_cats\n",
    "\n",
    "# Get the top Categories of the Apps\n",
    "top_cats = get_top_cats(df, col_name='Category', top=10)\n",
    "\n",
    "# Make data dict\n",
    "data = {}\n",
    "for cat in top_cats:\n",
    "    # Select disired category\n",
    "    temp_df =  df[df['Category'] == cat]\n",
    "\n",
    "    # Strip data, remove all special charactars and convert to flaot\n",
    "    price = temp_df['Price'].str.replace('[\\$,]+', '',\n",
    "                                         regex=True).astype(float)\n",
    "    installs = temp_df['Installs'].str.rstrip(r'+')\n",
    "    installs = installs.str.replace(',', '',\n",
    "                                    regex=True).astype(int)\n",
    "    reviews = temp_df['Reviews'].astype(float)\n",
    "\n",
    "    # Replace old data with stripped data\n",
    "    temp_df.loc[:, 'Price'] = pandas.Series(price, index = temp_df.index)\n",
    "    temp_df.loc[:, 'Installs'] = pandas.Series(installs, index = temp_df.index)\n",
    "    temp_df.loc[:, 'Reviews'] = pandas.Series(reviews, index = temp_df.index)\n",
    "\n",
    "    def save_describe(temp_df):\n",
    "        '''\n",
    "        Save the values of descibe in a dict, keeps the same order.\n",
    "        This dict can be converted to json\n",
    "        '''\n",
    "        names = list(temp_df)\n",
    "\n",
    "        # Get values from describe method and names of columns\n",
    "        values = temp_df.describe().values\n",
    "        des_names = list(temp_df.describe().index)\n",
    "\n",
    "        # add values to the name of the values\n",
    "        small_data = {}\n",
    "        for i, val in enumerate(values):\n",
    "            small_data[des_names[i]] = list(val)\n",
    "\n",
    "        # Create a last list of the colums in the data frame\n",
    "        small_data['Columns'] = names[1:-1]\n",
    "        return small_data\n",
    "\n",
    "    # Collect the data for the bar plot\n",
    "    data[cat] = save_describe(temp_df)\n",
    "\n",
    "data_json = json.dumps(data)\n",
    "\n",
    "# Save to file\n",
    "with open('data.json', 'w') as f:\n",
    "    f.write(data_json)\n",
    "\n",
    "data2 = []\n",
    "\n",
    "for key in data:\n",
    "    temp = data[key]\n",
    "    data2.append({'Letter':key,'Freq':temp['mean'][0]})\n",
    "    \n",
    "data_json2 = json.dumps(data2)\n",
    "\n",
    "# Save to file\n",
    "with open('data2.json', 'w') as f:\n",
    "    f.write(data_json2)"
   ]
  },
  {
   "cell_type": "code",
   "execution_count": 5,
   "metadata": {},
   "outputs": [
    {
     "data": {
      "text/plain": [
       "[{'name': 'BUSINESS', 'mean': 2.7147826086956526, 'std': 2.0208065206823753},\n",
       " {'name': 'COMMUNICATION',\n",
       "  'mean': 3.5245478036175695,\n",
       "  'std': 1.547316577279994},\n",
       " {'name': 'LIFESTYLE', 'mean': 3.3659685863874325, 'std': 1.68984739843032},\n",
       " {'name': 'GAME', 'mean': 4.1102272727272755, 'std': 0.923282184408669},\n",
       " {'name': 'FAMILY', 'mean': 3.7139452332657226, 'std': 1.416336966932353},\n",
       " {'name': 'MEDICAL', 'mean': 3.1667386609071295, 'std': 1.8913838444743232},\n",
       " {'name': 'SPORTS', 'mean': 3.508593750000001, 'std': 1.6330637568716768},\n",
       " {'name': 'TOOLS', 'mean': 3.5240806642941886, 'std': 1.4754447626537233},\n",
       " {'name': 'PERSONALIZATION',\n",
       "  'mean': 3.473214285714289,\n",
       "  'std': 1.7617771413127659},\n",
       " {'name': 'PRODUCTIVITY', 'mean': 3.486320754716982, 'std': 1.656736845394396}]"
      ]
     },
     "execution_count": 5,
     "metadata": {},
     "output_type": "execute_result"
    }
   ],
   "source": [
    "data2"
   ]
  },
  {
   "cell_type": "code",
   "execution_count": 200,
   "metadata": {},
   "outputs": [
    {
     "data": {
      "text/plain": [
       "['count', 'mean', 'std', 'min', '25%', '50%', '75%', 'max']"
      ]
     },
     "execution_count": 200,
     "metadata": {},
     "output_type": "execute_result"
    }
   ],
   "source": [
    "list(temp_df.describe().index)"
   ]
  },
  {
   "cell_type": "code",
   "execution_count": 6,
   "metadata": {},
   "outputs": [
    {
     "data": {
      "text/plain": [
       "10"
      ]
     },
     "execution_count": 6,
     "metadata": {},
     "output_type": "execute_result"
    }
   ],
   "source": [
    "len(data2)"
   ]
  },
  {
   "cell_type": "code",
   "execution_count": null,
   "metadata": {},
   "outputs": [],
   "source": []
  }
 ],
 "metadata": {
  "kernelspec": {
   "display_name": "Python 3",
   "language": "python",
   "name": "python3"
  },
  "language_info": {
   "codemirror_mode": {
    "name": "ipython",
    "version": 3
   },
   "file_extension": ".py",
   "mimetype": "text/x-python",
   "name": "python",
   "nbconvert_exporter": "python",
   "pygments_lexer": "ipython3",
   "version": "3.6.5"
  }
 },
 "nbformat": 4,
 "nbformat_minor": 2
}
